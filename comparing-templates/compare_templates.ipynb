{
  "cells": [
    {
      "cell_type": "code",
      "execution_count": null,
      "metadata": {
        "id": "xcJTHBPW5W_j"
      },
      "outputs": [],
      "source": [
        "!pip install transformers"
      ]
    },
    {
      "cell_type": "code",
      "execution_count": 2,
      "metadata": {
        "execution": {
          "iopub.execute_input": "2022-02-22T15:41:12.123357Z",
          "iopub.status.busy": "2022-02-22T15:41:12.122863Z",
          "iopub.status.idle": "2022-02-22T15:41:23.41909Z",
          "shell.execute_reply": "2022-02-22T15:41:23.418055Z",
          "shell.execute_reply.started": "2022-02-22T15:41:12.123236Z"
        },
        "trusted": true,
        "id": "pFTlv_lY5W_l"
      },
      "outputs": [],
      "source": [
        "import seaborn as sns\n",
        "import matplotlib.pyplot as plt\n",
        "import pandas as pd\n",
        "import math\n",
        "\n",
        "from transformers import BertTokenizer\n",
        "from transformers import pipeline\n",
        "\n",
        "from transformers import logging\n",
        "logging.set_verbosity_error()"
      ]
    },
    {
      "cell_type": "markdown",
      "metadata": {
        "id": "PNKki8v35W_m"
      },
      "source": [
        "Based on [kaggle notebook](https://www.kaggle.com/code/vilgus/prompt-based-learning-0-shot-text-classification/notebook)"
      ]
    },
    {
      "cell_type": "markdown",
      "metadata": {
        "id": "QJRMYONV5W_o"
      },
      "source": [
        "This is an example of how to use a Prompt-based Learning with a BERT model from HuggingFace to perform Zero-Shot Text Classification of news articles from the AG News dataset."
      ]
    },
    {
      "cell_type": "markdown",
      "metadata": {
        "id": "zUAv9kZo5W_o"
      },
      "source": [
        "If you run at Google Colab, please remember to upload the `train.csv` and `test.csv` files."
      ]
    },
    {
      "cell_type": "code",
      "execution_count": 3,
      "metadata": {
        "execution": {
          "iopub.execute_input": "2022-02-22T15:41:23.421516Z",
          "iopub.status.busy": "2022-02-22T15:41:23.421127Z",
          "iopub.status.idle": "2022-02-22T15:41:24.411637Z",
          "shell.execute_reply": "2022-02-22T15:41:24.410704Z",
          "shell.execute_reply.started": "2022-02-22T15:41:23.421458Z"
        },
        "trusted": true,
        "id": "NAg8r_X25W_p"
      },
      "outputs": [],
      "source": [
        "train_data = pd.read_csv('./train.csv')\n",
        "test_data = pd.read_csv('./test.csv')\n",
        "topics = {1: 'world',\n",
        "          2: 'sports',\n",
        "          3: 'business',\n",
        "          4: 'science'} # Originally \"Sci/Tech\""
      ]
    },
    {
      "cell_type": "markdown",
      "metadata": {
        "id": "WSkMbPB-5W_p"
      },
      "source": [
        "Get a sample news article."
      ]
    },
    {
      "cell_type": "code",
      "execution_count": 9,
      "metadata": {
        "execution": {
          "iopub.execute_input": "2022-02-22T15:44:27.79538Z",
          "iopub.status.busy": "2022-02-22T15:44:27.794379Z",
          "iopub.status.idle": "2022-02-22T15:44:27.803618Z",
          "shell.execute_reply": "2022-02-22T15:44:27.803038Z",
          "shell.execute_reply.started": "2022-02-22T15:44:27.795335Z"
        },
        "trusted": true,
        "id": "rwSms2sW5W_q"
      },
      "outputs": [],
      "source": [
        "sample = train_data.sample()\n",
        "\n",
        "topic = topics[sample['Class Index'].item()]\n",
        "title = sample['Title'].item()\n",
        "description = sample['Description'].item()\n",
        "\n",
        "news_article = title + \". \" + description"
      ]
    },
    {
      "cell_type": "markdown",
      "metadata": {
        "id": "-OdIyYZ95W_q"
      },
      "source": [
        "Function for printing the news article."
      ]
    },
    {
      "cell_type": "code",
      "execution_count": 5,
      "metadata": {
        "execution": {
          "iopub.execute_input": "2022-02-22T15:41:24.43793Z",
          "iopub.status.busy": "2022-02-22T15:41:24.437632Z",
          "iopub.status.idle": "2022-02-22T15:41:24.478415Z",
          "shell.execute_reply": "2022-02-22T15:41:24.477196Z",
          "shell.execute_reply.started": "2022-02-22T15:41:24.437896Z"
        },
        "trusted": true,
        "id": "J_0bkbCs5W_q"
      },
      "outputs": [],
      "source": [
        "from IPython.display import Markdown, display\n",
        "\n",
        "def print_news_article(topic, news_article):\n",
        "    display(Markdown('**News topic: \"{}\":**'.format(topic) + '<br>' \\\n",
        "       + news_article))"
      ]
    },
    {
      "cell_type": "markdown",
      "metadata": {
        "id": "3WZeg-4l5W_r"
      },
      "source": [
        "Function for plotting the output results."
      ]
    },
    {
      "cell_type": "code",
      "execution_count": 6,
      "metadata": {
        "execution": {
          "iopub.execute_input": "2022-02-22T15:41:24.482496Z",
          "iopub.status.busy": "2022-02-22T15:41:24.482112Z",
          "iopub.status.idle": "2022-02-22T15:41:24.492687Z",
          "shell.execute_reply": "2022-02-22T15:41:24.491674Z",
          "shell.execute_reply.started": "2022-02-22T15:41:24.482456Z"
        },
        "trusted": true,
        "id": "9fMXHepZ5W_r"
      },
      "outputs": [],
      "source": [
        "def plot_output(output, prompts):\n",
        "    sns.set_theme(style=\"darkgrid\")\n",
        "\n",
        "    fig = plt.figure(figsize=(14,4))\n",
        "    n_rows = math.ceil(len(prompts) / 3)\n",
        "    n_cols = 3 if len(prompts) > 3 else len(prompts)\n",
        "    counter = 1\n",
        "\n",
        "    for i, (pt, o) in enumerate(zip(prompts, output)):\n",
        "        df = pd.DataFrame(o)\n",
        "        ax = plt.subplot(n_rows, n_cols, counter)\n",
        "        plt.title(pt)\n",
        "        plt.xlabel('News topic')\n",
        "        sbp = sns.barplot(x=\"token_str\", y=\"score\", data=df, ax=ax, palette='Blues', order=topics.values())\n",
        "        sbp.set(xlabel=None)\n",
        "        sbp.set(ylabel=None)\n",
        "        counter += 1\n",
        "\n",
        "    sns.despine(bottom=True, left=True, fig=fig)"
      ]
    },
    {
      "cell_type": "markdown",
      "metadata": {
        "id": "wW4ryKMw5W_r"
      },
      "source": [
        "Do the classification."
      ]
    },
    {
      "cell_type": "code",
      "execution_count": 10,
      "metadata": {
        "execution": {
          "iopub.execute_input": "2022-02-22T15:44:30.856888Z",
          "iopub.status.busy": "2022-02-22T15:44:30.855941Z",
          "iopub.status.idle": "2022-02-22T15:44:39.133019Z",
          "shell.execute_reply": "2022-02-22T15:44:39.132031Z",
          "shell.execute_reply.started": "2022-02-22T15:44:30.856851Z"
        },
        "trusted": true,
        "colab": {
          "base_uri": "https://localhost:8080/",
          "height": 365
        },
        "id": "yIDBRAQs5W_s",
        "outputId": "2cbe8232-5fda-47a7-d75b-169f6ae418bc"
      },
      "outputs": [
        {
          "output_type": "display_data",
          "data": {
            "text/plain": [
              "<IPython.core.display.Markdown object>"
            ],
            "text/markdown": "**News topic: \"business\":**<br>Blue Chips End Lower, Wal-Mart Weighs.  NEW YORK (Reuters) - U.S. blue chips ended lower on Monday  after a disappointing sales forecast from the world's biggest  retailer, Wal-Mart Stores Inc. &lt;A HREF=\"http://www.investor.reuters.com/FullQuote.aspx?ticker=WMT.N target=/stocks/quickinfo/fullquote\"&gt;WMT.N&lt;/A&gt;, overshadowed a two-day  pullback in oil prices."
          },
          "metadata": {}
        },
        {
          "output_type": "display_data",
          "data": {
            "text/plain": [
              "<Figure size 1008x288 with 3 Axes>"
            ],
            "image/png": "[encoded data removed]"
          },
          "metadata": {}
        }
      ],
      "source": [
        "prompt_templates = [\n",
        "    '[MASK] News: {}',\n",
        "    'The following text is about [MASK]. {}',\n",
        "    'This article is about [MASK]: {}'\n",
        "]\n",
        "class_labels = ['world', 'sports', 'business', 'science']\n",
        "\n",
        "prompts = [[pt.format(news_article)] for pt in prompt_templates]\n",
        "\n",
        "#create pipeline\n",
        "unmasker = pipeline('fill-mask', model='bert-base-uncased', targets=class_labels)\n",
        "output = unmasker(prompts)\n",
        "\n",
        "print_news_article(topic, news_article)\n",
        "plot_output(output, prompt_templates)"
      ]
    }
  ],
  "metadata": {
    "kernelspec": {
      "display_name": "test2",
      "language": "python",
      "name": "python3"
    },
    "language_info": {
      "codemirror_mode": {
        "name": "ipython",
        "version": 3
      },
      "file_extension": ".py",
      "mimetype": "text/x-python",
      "name": "python",
      "nbconvert_exporter": "python",
      "pygments_lexer": "ipython3",
      "version": "3.10.8"
    },
    "vscode": {
      "interpreter": {
        "hash": "1b4c8135d3810d4705d040bb3af8ca3a156d8083f78560834dae4b858dffb60a"
      }
    },
    "colab": {
      "provenance": []
    }
  },
  "nbformat": 4,
  "nbformat_minor": 0
}